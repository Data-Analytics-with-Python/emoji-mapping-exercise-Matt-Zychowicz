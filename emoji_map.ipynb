{
  "cells": [
    {
      "cell_type": "markdown",
      "metadata": {
        "colab_type": "text",
        "id": "view-in-github"
      },
      "source": [
        "<a href=\"https://colab.research.google.com/github/zhouy185/emoji_mapping/blob/main/emoji_map.ipynb\" target=\"_parent\"><img src=\"https://colab.research.google.com/assets/colab-badge.svg\" alt=\"Open In Colab\"/></a>"
      ]
    },
    {
      "cell_type": "code",
      "execution_count": 1,
      "metadata": {
        "id": "QTEBoiVlqXnx"
      },
      "outputs": [],
      "source": [
        "# Define a dictional that maps words into emojis\n",
        "EMOJI_MAP = {\n",
        "    \"happy\": \"😀\",\n",
        "    \"joyful\": \"😄\",\n",
        "    \"excited\": \"🤩\",\n",
        "    \"proud\": \"😌\",\n",
        "    \"calm\": \"🙂\",\n",
        "    \"confident\": \"😎\",\n",
        "    \"playful\": \"😜\",\n",
        "    \"silly\": \"🤪\",\n",
        "    \"angry\": \"😡\",\n",
        "    \"frustrated\": \"😤\",\n",
        "    \"sad\": \"😢\",\n",
        "    \"lonely\": \"🥺\",\n",
        "    \"scared\": \"😱\",\n",
        "    \"worried\": \"😟\",\n",
        "    \"tired\": \"😴\",\n",
        "    \"confused\": \"🤔\",\n",
        "    \"surprised\": \"😮\",\n",
        "    \"loving\": \"❤️\",\n",
        "    \"grateful\": \"🙏\"\n",
        "}"
      ]
    },
    {
      "cell_type": "code",
      "execution_count": 6,
      "metadata": {
        "id": "yg-oV8D1qYuj"
      },
      "outputs": [],
      "source": [
        "# Replace the content of 'text' with your own sentence. No punctuaton marks!\n",
        "text = \"I am happy\""
      ]
    },
    {
      "cell_type": "code",
      "execution_count": 7,
      "metadata": {
        "id": "xFX3D2omqxjB"
      },
      "outputs": [
        {
          "name": "stdout",
          "output_type": "stream",
          "text": [
            "['I', 'am', 'happy']\n"
          ]
        }
      ],
      "source": [
        "# Split text into a list of words using .split() function\n",
        "words = text.split()\n",
        "print(words)\n"
      ]
    },
    {
      "cell_type": "code",
      "execution_count": 11,
      "metadata": {
        "id": "MmYdSeYG0Ei6"
      },
      "outputs": [
        {
          "name": "stdout",
          "output_type": "stream",
          "text": [
            "I am 😀\n"
          ]
        }
      ],
      "source": [
        "# Use a for loop to enumerate the list of words. If the word is in EMOJI_MAP, replace it with the corresponding emoji\n",
        "\n",
        "for word in words:\n",
        "    if word in EMOJI_MAP:\n",
        "        text = text.replace(word, EMOJI_MAP[word])\n",
        "\n",
        "print(text)\n"
      ]
    }
  ],
  "metadata": {
    "colab": {
      "authorship_tag": "ABX9TyMrz2ru2f/UxOTrCmpq2fwQ",
      "include_colab_link": true,
      "provenance": []
    },
    "kernelspec": {
      "display_name": ".venv",
      "language": "python",
      "name": "python3"
    },
    "language_info": {
      "codemirror_mode": {
        "name": "ipython",
        "version": 3
      },
      "file_extension": ".py",
      "mimetype": "text/x-python",
      "name": "python",
      "nbconvert_exporter": "python",
      "pygments_lexer": "ipython3",
      "version": "3.12.6"
    }
  },
  "nbformat": 4,
  "nbformat_minor": 0
}
